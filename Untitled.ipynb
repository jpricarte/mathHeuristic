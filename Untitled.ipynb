{
 "cells": [
  {
   "cell_type": "code",
   "execution_count": 29,
   "metadata": {},
   "outputs": [],
   "source": [
    "import gurobipy\n",
    "import numpy as np"
   ]
  },
  {
   "cell_type": "code",
   "execution_count": 48,
   "metadata": {},
   "outputs": [],
   "source": [
    "'''\n",
    "load_file_to_matrix: convert a instance in a adjacency list\n",
    "\n",
    "'''\n",
    "def load_file_to_matrix(filename):\n",
    "    with open(filename) as file:\n",
    "        (n_vert, n_edge, s, t) = map(int, file.readline().split())\n",
    "        s -= 1\n",
    "        t -= 1\n",
    "        edges = []\n",
    "        for line in file:\n",
    "            (u, v, cost) = map(int, line.split())\n",
    "            \n",
    "    return (graph, n_vert, n_edge, s, t)"
   ]
  },
  {
   "cell_type": "code",
   "execution_count": 49,
   "metadata": {},
   "outputs": [],
   "source": [
    "class Graph:\n",
    "    def __init__(self, n, m):\n",
    "        self.n = n\n",
    "        self.m = m\n",
    "        self.edges = []\n",
    "        self.req = np.zeros((n,n))"
   ]
  },
  {
   "cell_type": "code",
   "execution_count": 51,
   "metadata": {},
   "outputs": [
    {
     "name": "stdout",
     "output_type": "stream",
     "text": [
      "5\n",
      "13\n",
      "12\n",
      "8\n",
      "9\n",
      "7\n",
      "4\n",
      "2\n",
      "6\n",
      "3\n",
      "10\n",
      "15\n",
      "11\n",
      "7\n",
      "12\n"
     ]
    }
   ],
   "source": [
    "with open('./instances/well-known/berry6.in') as file:\n",
    "    (n,m) = map(int, file.readline().split())\n",
    "    graph = Graph(n,m)\n",
    "    for i in range(m):\n",
    "        (u,v,length) = file.readline().split()\n",
    "        graph.edges.append((int(u),int(v),float(length),i))\n",
    "    for _ in range(m):\n",
    "        req = int(file.readline())\n",
    "        \n",
    "        print(req)"
   ]
  },
  {
   "cell_type": "code",
   "execution_count": null,
   "metadata": {},
   "outputs": [],
   "source": []
  }
 ],
 "metadata": {
  "kernelspec": {
   "display_name": "Python 3",
   "language": "python",
   "name": "python3"
  },
  "language_info": {
   "codemirror_mode": {
    "name": "ipython",
    "version": 3
   },
   "file_extension": ".py",
   "mimetype": "text/x-python",
   "name": "python",
   "nbconvert_exporter": "python",
   "pygments_lexer": "ipython3",
   "version": "3.8.10"
  }
 },
 "nbformat": 4,
 "nbformat_minor": 4
}
