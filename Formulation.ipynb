{
 "cells": [
  {
   "cell_type": "code",
   "execution_count": 100,
   "metadata": {},
   "outputs": [],
   "source": [
    "from gurobipy import *\n",
    "from pulp import *"
   ]
  },
  {
   "cell_type": "code",
   "execution_count": 240,
   "metadata": {},
   "outputs": [],
   "source": [
    "# Reading instance\n",
    "'''\n",
    "    read_instance(file_name: str)\n",
    "    read a instance file and return it values\n",
    "    :return: (n, m, graph, req), where\n",
    "    n: int - number of vertices\n",
    "    m: int - number of edges\n",
    "    graph: [[int]] - an adjacency matrix\n",
    "    req: [[float]] - an matrix of requirements (sup trian)\n",
    "'''\n",
    "def read_instance(file_name: str) -> (int, int, [[int]], [[float]]):\n",
    "    with open(file_name, 'r') as instance_file:\n",
    "        (n, m) = map(lambda x: int(x), instance_file.readline().split())\n",
    "        graph = [[ -1 for _ in range(n)] for _ in range(n)]\n",
    "        req = [[ 0.0 for _ in range(n)] for _ in range(n)]\n",
    "        for _ in range(m):\n",
    "            # length(u,v) = l\n",
    "            (u, v, l) = map(lambda x: int(x), instance_file.readline().split())\n",
    "            graph[u][v] = l\n",
    "            graph[v][u] = l\n",
    "        # main diagonal equals 0\n",
    "        for i in range(n):\n",
    "            graph[i][i] = -1\n",
    "        for i in range(n):\n",
    "            for j in range(i,n):\n",
    "                if j == i:\n",
    "                    req[i][i] = 0.0\n",
    "                else:\n",
    "                    r = float(instance_file.readline())\n",
    "                    req[i][j] = r\n",
    "                    req[j][i] = r\n",
    "        \n",
    "    return (n, m, graph, req)"
   ]
  },
  {
   "cell_type": "code",
   "execution_count": 241,
   "metadata": {},
   "outputs": [],
   "source": [
    "'''\n",
    "    get_o_u(req)\n",
    "    Generate O value for each vertice u\n",
    "    return: o, an [float]\n",
    "'''\n",
    "def get_o_u(req) -> [[float]]:\n",
    "    o = []\n",
    "    for u in range(n):\n",
    "        o.append(sum(req[u][v] for v in range(u,n)))\n",
    "    return o"
   ]
  },
  {
   "cell_type": "code",
   "execution_count": 274,
   "metadata": {},
   "outputs": [],
   "source": [
    "'''\n",
    "    defining_vars(graph: [[int]])\n",
    "    generate MIP vars\n",
    "    return: (x, y, f), where:\n",
    "    x: dict(LPVar): binary x[i][j]\n",
    "    y: dict(LPVar): binary y[u][i][j]\n",
    "    f: dict(LPVar): cont   f[u][i][j]\n",
    "'''\n",
    "def defining_vars(graph: [[int]], n: int) -> (dict, dict, dict):\n",
    "    x = LpVariable.dicts(\"x\", [(i,j) for i in range(n) for j in range(i, n) if graph[i][j] >= 0],\n",
    "                        lowBound=0, upBound=1, cat='Integer')\n",
    "    y = LpVariable.dicts(\"y\", [(u,i,j) for u in range(n) for i in range(n) for j in range(n) if graph[i][j] >= 0],\n",
    "                        lowBound=0, upBound=1, cat='Integer')\n",
    "    f = LpVariable.dicts(\"f\", [(u,i,j) for u in range(n) for i in range(n) for j in range(n) if graph[i][j] >= 0],\n",
    "                        lowBound=0)\n",
    "    return (x, y, f)"
   ]
  },
  {
   "cell_type": "code",
   "execution_count": 275,
   "metadata": {},
   "outputs": [],
   "source": [
    "'''\n",
    "    defining_objective(graph: [[int]], f: dict)\n",
    "    Generate objective function\n",
    "    return: problem, an LpProblem\n",
    "'''\n",
    "def defining_objective(graph: [[int]], n: int, f: dict):\n",
    "    problem = LpProblem(\"OCT problem\", LpMinimize)\n",
    "    problem += lpSum(graph[i][j] * f[u, i, j] for i in range(n) for j in range(i,n) for u in range(n) if graph[i][j] >= 0), \"communication cost\"\n",
    "    return problem"
   ]
  },
  {
   "cell_type": "code",
   "execution_count": 276,
   "metadata": {},
   "outputs": [],
   "source": [
    "def first_constraint(n, o, problem, f):\n",
    "    for u in range(n):\n",
    "        problem += lpSum(f[u, u, j] for j in range(n) if j != u) == o[u]\n",
    "    return problem"
   ]
  },
  {
   "cell_type": "code",
   "execution_count": 277,
   "metadata": {},
   "outputs": [],
   "source": [
    "def second_constraint(n, req, problem, f):\n",
    "    for u in range(n):\n",
    "        for i in range(n):\n",
    "            problem += lpSum(f[u, i, j] - f[u, j, i] for j in range(n) if (j != u) and (j != i)) == - req[u][i]\n",
    "    return problem"
   ]
  },
  {
   "cell_type": "code",
   "execution_count": 278,
   "metadata": {},
   "outputs": [],
   "source": [
    "def third_fourth_constraint(n, o, problem, f, y):\n",
    "    for u in range(n):\n",
    "        for i in range(n):\n",
    "            for j in range(i, n):\n",
    "                if i==j: continue\n",
    "                problem += f[u,i,j] <= o[u] * y[u,i,j]\n",
    "                problem += f[u,j,i] <= o[u] * y[u,j,i]\n",
    "    return problem"
   ]
  },
  {
   "cell_type": "code",
   "execution_count": 279,
   "metadata": {},
   "outputs": [],
   "source": [
    "def fifth_constraint(n, problem, y):\n",
    "    for u in range(n):\n",
    "        problem += lpSum(y[u, i, j] for i in range(n) for j in range(i, n) if (j != u) and (j != i)) == n-1\n",
    "    return problem"
   ]
  },
  {
   "cell_type": "code",
   "execution_count": 280,
   "metadata": {},
   "outputs": [],
   "source": [
    "def sixth_constraint(n, problem, x, y):\n",
    "    for u in range(n):\n",
    "        for i in range(n):\n",
    "            for j in range(i, n):\n",
    "                if i==j: continue\n",
    "                problem += y[u,i,j] + y[u,j,i] <= x[i,j]\n",
    "    return problem"
   ]
  },
  {
   "cell_type": "code",
   "execution_count": 281,
   "metadata": {},
   "outputs": [],
   "source": [
    "def seventh_constraint(n, problem, x):\n",
    "    problem += lpSum(x[i,j] for i in range(n) for j in range(i,n) if i != j) == n-1\n",
    "    return problem"
   ]
  },
  {
   "cell_type": "code",
   "execution_count": 282,
   "metadata": {},
   "outputs": [],
   "source": [
    "(n, m, graph, req) = read_instance('./instances/well-known/berry6.in')\n",
    "o = get_o_u(req)"
   ]
  },
  {
   "cell_type": "code",
   "execution_count": 283,
   "metadata": {},
   "outputs": [],
   "source": [
    "(x, y, f) = defining_vars(graph, n)"
   ]
  },
  {
   "cell_type": "code",
   "execution_count": 284,
   "metadata": {},
   "outputs": [],
   "source": [
    "problem = defining_objective(graph, n, f)\n",
    "problem = first_constraint(n, o, problem, f)\n",
    "problem = second_constraint(n, req, problem, f)\n",
    "problem = third_fourth_constraint(n, o, problem, f, y)\n",
    "problem = fifth_constraint(n, problem, y)\n",
    "problem = sixth_constraint(n, problem, x, y)\n",
    "problem = seventh_constraint(n, problem, x)"
   ]
  },
  {
   "cell_type": "code",
   "execution_count": 285,
   "metadata": {},
   "outputs": [
    {
     "name": "stdout",
     "output_type": "stream",
     "text": [
      "Set parameter TimeLimit to value 3600\n",
      "Gurobi Optimizer version 9.5.0 build v9.5.0rc5 (linux64)\n",
      "Thread count: 4 physical cores, 8 logical processors, using up to 8 threads\n",
      "Optimize a model with 319 rows, 375 columns and 1020 nonzeros\n",
      "Model fingerprint: 0xc1ca9506\n",
      "Variable types: 180 continuous, 195 integer (0 binary)\n",
      "Coefficient statistics:\n",
      "  Matrix range     [1e+00, 5e+01]\n",
      "  Objective range  [1e+00, 9e+00]\n",
      "  Bounds range     [1e+00, 1e+00]\n",
      "  RHS range        [2e+00, 5e+01]\n",
      "Presolve removed 35 rows and 50 columns\n",
      "Presolve time: 0.00s\n",
      "\n",
      "Explored 0 nodes (0 simplex iterations) in 0.01 seconds (0.00 work units)\n",
      "Thread count was 1 (of 8 available processors)\n",
      "\n",
      "Solution count 0\n",
      "\n",
      "Model is infeasible\n",
      "Best objective -, best bound -, gap -\n",
      "Gurobi status= 3\n"
     ]
    },
    {
     "name": "stderr",
     "output_type": "stream",
     "text": [
      "<ipython-input-285-13dbcef67e8e>:2: DeprecationWarning: Deprecated, pass a TempConstr or use Model.addLConstr\n",
      "  solver.buildSolverModel(problem)\n"
     ]
    },
    {
     "data": {
      "text/plain": [
       "-1"
      ]
     },
     "execution_count": 285,
     "metadata": {},
     "output_type": "execute_result"
    }
   ],
   "source": [
    "solver = GUROBI(timeLimit = 3600)\n",
    "solver.buildSolverModel(problem)\n",
    "solver.callSolver(problem)\n",
    "solver.findSolutionValues(problem)"
   ]
  },
  {
   "cell_type": "code",
   "execution_count": null,
   "metadata": {},
   "outputs": [],
   "source": []
  }
 ],
 "metadata": {
  "kernelspec": {
   "display_name": "Python 3",
   "language": "python",
   "name": "python3"
  },
  "language_info": {
   "codemirror_mode": {
    "name": "ipython",
    "version": 3
   },
   "file_extension": ".py",
   "mimetype": "text/x-python",
   "name": "python",
   "nbconvert_exporter": "python",
   "pygments_lexer": "ipython3",
   "version": "3.8.10"
  }
 },
 "nbformat": 4,
 "nbformat_minor": 4
}
